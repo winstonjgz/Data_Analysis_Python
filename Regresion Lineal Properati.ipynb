{
 "cells": [
  {
   "cell_type": "markdown",
   "id": "48c7ccdb",
   "metadata": {},
   "source": [
    "# Worshop: regresion Lineal en ScikitLearn\n"
   ]
  },
  {
   "cell_type": "code",
   "execution_count": 1,
   "id": "c91fdfe1",
   "metadata": {},
   "outputs": [],
   "source": [
    "#Importamos las librerias \n",
    "import pandas as pd\n",
    "import numpy as np\n",
    "import matplotlib.pyplot as plt"
   ]
  },
  {
   "cell_type": "code",
   "execution_count": 2,
   "id": "6809781a",
   "metadata": {},
   "outputs": [],
   "source": [
    "#importamos el dataset\n",
    "df = pd.read_csv('DS_Proyecto_01_Datos_Properati.csv')"
   ]
  },
  {
   "cell_type": "code",
   "execution_count": 3,
   "id": "f3586dea",
   "metadata": {},
   "outputs": [
    {
     "data": {
      "text/html": [
       "<div>\n",
       "<style scoped>\n",
       "    .dataframe tbody tr th:only-of-type {\n",
       "        vertical-align: middle;\n",
       "    }\n",
       "\n",
       "    .dataframe tbody tr th {\n",
       "        vertical-align: top;\n",
       "    }\n",
       "\n",
       "    .dataframe thead th {\n",
       "        text-align: right;\n",
       "    }\n",
       "</style>\n",
       "<table border=\"1\" class=\"dataframe\">\n",
       "  <thead>\n",
       "    <tr style=\"text-align: right;\">\n",
       "      <th></th>\n",
       "      <th>start_date</th>\n",
       "      <th>end_date</th>\n",
       "      <th>created_on</th>\n",
       "      <th>lat</th>\n",
       "      <th>lon</th>\n",
       "      <th>l1</th>\n",
       "      <th>l2</th>\n",
       "      <th>l3</th>\n",
       "      <th>rooms</th>\n",
       "      <th>bedrooms</th>\n",
       "      <th>bathrooms</th>\n",
       "      <th>surface_total</th>\n",
       "      <th>surface_covered</th>\n",
       "      <th>price</th>\n",
       "      <th>currency</th>\n",
       "      <th>title</th>\n",
       "      <th>description</th>\n",
       "      <th>property_type</th>\n",
       "      <th>operation_type</th>\n",
       "    </tr>\n",
       "  </thead>\n",
       "  <tbody>\n",
       "    <tr>\n",
       "      <th>0</th>\n",
       "      <td>2019-10-17</td>\n",
       "      <td>2019-12-23</td>\n",
       "      <td>2019-10-17</td>\n",
       "      <td>-34.605880</td>\n",
       "      <td>-58.384949</td>\n",
       "      <td>Argentina</td>\n",
       "      <td>Capital Federal</td>\n",
       "      <td>San Cristobal</td>\n",
       "      <td>7.0</td>\n",
       "      <td>7.0</td>\n",
       "      <td>2.0</td>\n",
       "      <td>140.0</td>\n",
       "      <td>140.0</td>\n",
       "      <td>153000.0</td>\n",
       "      <td>USD</td>\n",
       "      <td>***Venta semipiso centro, ideal hostel*****</td>\n",
       "      <td>DESCRIPCION DE LA PROPIEDAD: Departamento de 1...</td>\n",
       "      <td>Departamento</td>\n",
       "      <td>Venta</td>\n",
       "    </tr>\n",
       "    <tr>\n",
       "      <th>1</th>\n",
       "      <td>2019-10-17</td>\n",
       "      <td>2019-11-21</td>\n",
       "      <td>2019-10-17</td>\n",
       "      <td>-34.624056</td>\n",
       "      <td>-58.412110</td>\n",
       "      <td>Argentina</td>\n",
       "      <td>Capital Federal</td>\n",
       "      <td>Boedo</td>\n",
       "      <td>2.0</td>\n",
       "      <td>1.0</td>\n",
       "      <td>2.0</td>\n",
       "      <td>70.0</td>\n",
       "      <td>58.0</td>\n",
       "      <td>159000.0</td>\n",
       "      <td>USD</td>\n",
       "      <td>Espectacular PH reciclado en Boedo sin expensas.</td>\n",
       "      <td>PH reciclado en Boedo a una cuadra de la plaz...</td>\n",
       "      <td>PH</td>\n",
       "      <td>Venta</td>\n",
       "    </tr>\n",
       "    <tr>\n",
       "      <th>2</th>\n",
       "      <td>2019-10-17</td>\n",
       "      <td>2019-11-01</td>\n",
       "      <td>2019-10-17</td>\n",
       "      <td>-34.593569</td>\n",
       "      <td>-58.427474</td>\n",
       "      <td>Argentina</td>\n",
       "      <td>Capital Federal</td>\n",
       "      <td>Palermo</td>\n",
       "      <td>2.0</td>\n",
       "      <td>1.0</td>\n",
       "      <td>1.0</td>\n",
       "      <td>45.0</td>\n",
       "      <td>45.0</td>\n",
       "      <td>125000.0</td>\n",
       "      <td>USD</td>\n",
       "      <td>Depto.tipo casa de 2 ambientes en Venta en Pal...</td>\n",
       "      <td>2 ambienets amplio , excelente estado , patio ...</td>\n",
       "      <td>PH</td>\n",
       "      <td>Venta</td>\n",
       "    </tr>\n",
       "    <tr>\n",
       "      <th>3</th>\n",
       "      <td>2019-10-17</td>\n",
       "      <td>2019-12-23</td>\n",
       "      <td>2019-10-17</td>\n",
       "      <td>-34.581294</td>\n",
       "      <td>-58.436754</td>\n",
       "      <td>Argentina</td>\n",
       "      <td>Capital Federal</td>\n",
       "      <td>Palermo</td>\n",
       "      <td>2.0</td>\n",
       "      <td>1.0</td>\n",
       "      <td>1.0</td>\n",
       "      <td>85.0</td>\n",
       "      <td>50.0</td>\n",
       "      <td>295000.0</td>\n",
       "      <td>USD</td>\n",
       "      <td>COSTA RICA 5800 / PALERMO HOLLYWOOD / VENTA PH...</td>\n",
       "      <td>HERMOSO PH EN PALERMO!!!2 AMBIENTES TOTALMENTE...</td>\n",
       "      <td>PH</td>\n",
       "      <td>Venta</td>\n",
       "    </tr>\n",
       "    <tr>\n",
       "      <th>4</th>\n",
       "      <td>2019-10-17</td>\n",
       "      <td>2020-03-11</td>\n",
       "      <td>2019-10-17</td>\n",
       "      <td>-34.914194</td>\n",
       "      <td>-57.938219</td>\n",
       "      <td>Argentina</td>\n",
       "      <td>Bs.As. G.B.A. Zona Sur</td>\n",
       "      <td>La Plata</td>\n",
       "      <td>2.0</td>\n",
       "      <td>1.0</td>\n",
       "      <td>1.0</td>\n",
       "      <td>50.0</td>\n",
       "      <td>35.0</td>\n",
       "      <td>40000.0</td>\n",
       "      <td>USD</td>\n",
       "      <td>58 entre 1 y 2  Venta de departamento en ph.1 ...</td>\n",
       "      <td>58 entre 1 y 2  Venta de departamento en PH. P...</td>\n",
       "      <td>PH</td>\n",
       "      <td>Venta</td>\n",
       "    </tr>\n",
       "  </tbody>\n",
       "</table>\n",
       "</div>"
      ],
      "text/plain": [
       "   start_date    end_date  created_on        lat        lon         l1  \\\n",
       "0  2019-10-17  2019-12-23  2019-10-17 -34.605880 -58.384949  Argentina   \n",
       "1  2019-10-17  2019-11-21  2019-10-17 -34.624056 -58.412110  Argentina   \n",
       "2  2019-10-17  2019-11-01  2019-10-17 -34.593569 -58.427474  Argentina   \n",
       "3  2019-10-17  2019-12-23  2019-10-17 -34.581294 -58.436754  Argentina   \n",
       "4  2019-10-17  2020-03-11  2019-10-17 -34.914194 -57.938219  Argentina   \n",
       "\n",
       "                       l2             l3  rooms  bedrooms  bathrooms  \\\n",
       "0         Capital Federal  San Cristobal    7.0       7.0        2.0   \n",
       "1         Capital Federal          Boedo    2.0       1.0        2.0   \n",
       "2         Capital Federal        Palermo    2.0       1.0        1.0   \n",
       "3         Capital Federal        Palermo    2.0       1.0        1.0   \n",
       "4  Bs.As. G.B.A. Zona Sur       La Plata    2.0       1.0        1.0   \n",
       "\n",
       "   surface_total  surface_covered     price currency  \\\n",
       "0          140.0            140.0  153000.0      USD   \n",
       "1           70.0             58.0  159000.0      USD   \n",
       "2           45.0             45.0  125000.0      USD   \n",
       "3           85.0             50.0  295000.0      USD   \n",
       "4           50.0             35.0   40000.0      USD   \n",
       "\n",
       "                                               title  \\\n",
       "0        ***Venta semipiso centro, ideal hostel*****   \n",
       "1   Espectacular PH reciclado en Boedo sin expensas.   \n",
       "2  Depto.tipo casa de 2 ambientes en Venta en Pal...   \n",
       "3  COSTA RICA 5800 / PALERMO HOLLYWOOD / VENTA PH...   \n",
       "4  58 entre 1 y 2  Venta de departamento en ph.1 ...   \n",
       "\n",
       "                                         description property_type  \\\n",
       "0  DESCRIPCION DE LA PROPIEDAD: Departamento de 1...  Departamento   \n",
       "1   PH reciclado en Boedo a una cuadra de la plaz...            PH   \n",
       "2  2 ambienets amplio , excelente estado , patio ...            PH   \n",
       "3  HERMOSO PH EN PALERMO!!!2 AMBIENTES TOTALMENTE...            PH   \n",
       "4  58 entre 1 y 2  Venta de departamento en PH. P...            PH   \n",
       "\n",
       "  operation_type  \n",
       "0          Venta  \n",
       "1          Venta  \n",
       "2          Venta  \n",
       "3          Venta  \n",
       "4          Venta  "
      ]
     },
     "execution_count": 3,
     "metadata": {},
     "output_type": "execute_result"
    }
   ],
   "source": [
    "df.head()"
   ]
  },
  {
   "cell_type": "code",
   "execution_count": 4,
   "id": "5f31b682",
   "metadata": {},
   "outputs": [
    {
     "data": {
      "text/html": [
       "<div>\n",
       "<style scoped>\n",
       "    .dataframe tbody tr th:only-of-type {\n",
       "        vertical-align: middle;\n",
       "    }\n",
       "\n",
       "    .dataframe tbody tr th {\n",
       "        vertical-align: top;\n",
       "    }\n",
       "\n",
       "    .dataframe thead th {\n",
       "        text-align: right;\n",
       "    }\n",
       "</style>\n",
       "<table border=\"1\" class=\"dataframe\">\n",
       "  <thead>\n",
       "    <tr style=\"text-align: right;\">\n",
       "      <th></th>\n",
       "      <th>start_date</th>\n",
       "      <th>end_date</th>\n",
       "      <th>created_on</th>\n",
       "      <th>lat</th>\n",
       "      <th>lon</th>\n",
       "      <th>l1</th>\n",
       "      <th>l2</th>\n",
       "      <th>l3</th>\n",
       "      <th>rooms</th>\n",
       "      <th>bedrooms</th>\n",
       "      <th>bathrooms</th>\n",
       "      <th>surface_total</th>\n",
       "      <th>surface_covered</th>\n",
       "      <th>price</th>\n",
       "      <th>currency</th>\n",
       "      <th>title</th>\n",
       "      <th>description</th>\n",
       "      <th>property_type</th>\n",
       "      <th>operation_type</th>\n",
       "    </tr>\n",
       "  </thead>\n",
       "  <tbody>\n",
       "    <tr>\n",
       "      <th>146655</th>\n",
       "      <td>2019-07-31</td>\n",
       "      <td>2019-08-13</td>\n",
       "      <td>2019-07-31</td>\n",
       "      <td>-34.816348</td>\n",
       "      <td>-58.181963</td>\n",
       "      <td>Argentina</td>\n",
       "      <td>Bs.As. G.B.A. Zona Sur</td>\n",
       "      <td>Berazategui</td>\n",
       "      <td>2.0</td>\n",
       "      <td>1.0</td>\n",
       "      <td>1.0</td>\n",
       "      <td>54.0</td>\n",
       "      <td>48.0</td>\n",
       "      <td>165000.0</td>\n",
       "      <td>USD</td>\n",
       "      <td>Departamento en Venta en Barrio Privado Barran...</td>\n",
       "      <td>Departamento de 2 ambientesCocina con alacena ...</td>\n",
       "      <td>Departamento</td>\n",
       "      <td>Venta</td>\n",
       "    </tr>\n",
       "    <tr>\n",
       "      <th>146656</th>\n",
       "      <td>2019-07-31</td>\n",
       "      <td>2019-08-14</td>\n",
       "      <td>2019-07-31</td>\n",
       "      <td>-34.446459</td>\n",
       "      <td>-58.937810</td>\n",
       "      <td>Argentina</td>\n",
       "      <td>Bs.As. G.B.A. Zona Norte</td>\n",
       "      <td>Pilar</td>\n",
       "      <td>4.0</td>\n",
       "      <td>3.0</td>\n",
       "      <td>2.0</td>\n",
       "      <td>164.0</td>\n",
       "      <td>90.0</td>\n",
       "      <td>130000.0</td>\n",
       "      <td>USD</td>\n",
       "      <td>Venta departamentos tres dormitorios jardín co...</td>\n",
       "      <td>Muy buen duplex a estrenar en dos plantas más ...</td>\n",
       "      <td>Departamento</td>\n",
       "      <td>Venta</td>\n",
       "    </tr>\n",
       "    <tr>\n",
       "      <th>146657</th>\n",
       "      <td>2019-07-31</td>\n",
       "      <td>2019-08-14</td>\n",
       "      <td>2019-07-31</td>\n",
       "      <td>-34.444633</td>\n",
       "      <td>-58.981606</td>\n",
       "      <td>Argentina</td>\n",
       "      <td>Bs.As. G.B.A. Zona Norte</td>\n",
       "      <td>Pilar</td>\n",
       "      <td>1.0</td>\n",
       "      <td>1.0</td>\n",
       "      <td>1.0</td>\n",
       "      <td>50.0</td>\n",
       "      <td>35.0</td>\n",
       "      <td>73000.0</td>\n",
       "      <td>USD</td>\n",
       "      <td>Venta departamento de un ambiente Manzanares C...</td>\n",
       "      <td>En los Condominios de Campo Manzanares Chico, ...</td>\n",
       "      <td>Departamento</td>\n",
       "      <td>Venta</td>\n",
       "    </tr>\n",
       "    <tr>\n",
       "      <th>146658</th>\n",
       "      <td>2019-07-31</td>\n",
       "      <td>2019-08-14</td>\n",
       "      <td>2019-07-31</td>\n",
       "      <td>-34.444830</td>\n",
       "      <td>-58.981796</td>\n",
       "      <td>Argentina</td>\n",
       "      <td>Bs.As. G.B.A. Zona Norte</td>\n",
       "      <td>Pilar</td>\n",
       "      <td>2.0</td>\n",
       "      <td>1.0</td>\n",
       "      <td>1.0</td>\n",
       "      <td>38.0</td>\n",
       "      <td>38.0</td>\n",
       "      <td>68000.0</td>\n",
       "      <td>USD</td>\n",
       "      <td>Departamento en Venta. Manzanares chico.</td>\n",
       "      <td>Broker: Maria 11Departamento de dos ambientes ...</td>\n",
       "      <td>Departamento</td>\n",
       "      <td>Venta</td>\n",
       "    </tr>\n",
       "    <tr>\n",
       "      <th>146659</th>\n",
       "      <td>2019-07-31</td>\n",
       "      <td>2019-10-12</td>\n",
       "      <td>2019-07-31</td>\n",
       "      <td>-34.444760</td>\n",
       "      <td>-58.981885</td>\n",
       "      <td>Argentina</td>\n",
       "      <td>Bs.As. G.B.A. Zona Norte</td>\n",
       "      <td>Pilar</td>\n",
       "      <td>3.0</td>\n",
       "      <td>2.0</td>\n",
       "      <td>1.0</td>\n",
       "      <td>75.0</td>\n",
       "      <td>75.0</td>\n",
       "      <td>98000.0</td>\n",
       "      <td>USD</td>\n",
       "      <td>Departamento en venta en Manzanares Chico</td>\n",
       "      <td>Departamento en el Barrio Manzanares Chico , e...</td>\n",
       "      <td>Departamento</td>\n",
       "      <td>Venta</td>\n",
       "    </tr>\n",
       "  </tbody>\n",
       "</table>\n",
       "</div>"
      ],
      "text/plain": [
       "        start_date    end_date  created_on        lat        lon         l1  \\\n",
       "146655  2019-07-31  2019-08-13  2019-07-31 -34.816348 -58.181963  Argentina   \n",
       "146656  2019-07-31  2019-08-14  2019-07-31 -34.446459 -58.937810  Argentina   \n",
       "146657  2019-07-31  2019-08-14  2019-07-31 -34.444633 -58.981606  Argentina   \n",
       "146658  2019-07-31  2019-08-14  2019-07-31 -34.444830 -58.981796  Argentina   \n",
       "146659  2019-07-31  2019-10-12  2019-07-31 -34.444760 -58.981885  Argentina   \n",
       "\n",
       "                              l2           l3  rooms  bedrooms  bathrooms  \\\n",
       "146655    Bs.As. G.B.A. Zona Sur  Berazategui    2.0       1.0        1.0   \n",
       "146656  Bs.As. G.B.A. Zona Norte        Pilar    4.0       3.0        2.0   \n",
       "146657  Bs.As. G.B.A. Zona Norte        Pilar    1.0       1.0        1.0   \n",
       "146658  Bs.As. G.B.A. Zona Norte        Pilar    2.0       1.0        1.0   \n",
       "146659  Bs.As. G.B.A. Zona Norte        Pilar    3.0       2.0        1.0   \n",
       "\n",
       "        surface_total  surface_covered     price currency  \\\n",
       "146655           54.0             48.0  165000.0      USD   \n",
       "146656          164.0             90.0  130000.0      USD   \n",
       "146657           50.0             35.0   73000.0      USD   \n",
       "146658           38.0             38.0   68000.0      USD   \n",
       "146659           75.0             75.0   98000.0      USD   \n",
       "\n",
       "                                                    title  \\\n",
       "146655  Departamento en Venta en Barrio Privado Barran...   \n",
       "146656  Venta departamentos tres dormitorios jardín co...   \n",
       "146657  Venta departamento de un ambiente Manzanares C...   \n",
       "146658           Departamento en Venta. Manzanares chico.   \n",
       "146659          Departamento en venta en Manzanares Chico   \n",
       "\n",
       "                                              description property_type  \\\n",
       "146655  Departamento de 2 ambientesCocina con alacena ...  Departamento   \n",
       "146656  Muy buen duplex a estrenar en dos plantas más ...  Departamento   \n",
       "146657  En los Condominios de Campo Manzanares Chico, ...  Departamento   \n",
       "146658  Broker: Maria 11Departamento de dos ambientes ...  Departamento   \n",
       "146659  Departamento en el Barrio Manzanares Chico , e...  Departamento   \n",
       "\n",
       "       operation_type  \n",
       "146655          Venta  \n",
       "146656          Venta  \n",
       "146657          Venta  \n",
       "146658          Venta  \n",
       "146659          Venta  "
      ]
     },
     "execution_count": 4,
     "metadata": {},
     "output_type": "execute_result"
    }
   ],
   "source": [
    "df.tail()"
   ]
  },
  {
   "cell_type": "code",
   "execution_count": 5,
   "id": "684a1b55",
   "metadata": {},
   "outputs": [
    {
     "name": "stdout",
     "output_type": "stream",
     "text": [
      "(146660, 19)\n"
     ]
    }
   ],
   "source": [
    "print(df.shape)"
   ]
  },
  {
   "cell_type": "code",
   "execution_count": 6,
   "id": "5c588dbb",
   "metadata": {},
   "outputs": [
    {
     "data": {
      "text/plain": [
       "start_date         146660\n",
       "end_date           146660\n",
       "created_on         146660\n",
       "lat                136735\n",
       "lon                136701\n",
       "l1                 146660\n",
       "l2                 146660\n",
       "l3                 146660\n",
       "rooms              146660\n",
       "bedrooms           146660\n",
       "bathrooms          140703\n",
       "surface_total      126133\n",
       "surface_covered    125046\n",
       "price              146660\n",
       "currency           146660\n",
       "title              146660\n",
       "description        146660\n",
       "property_type      146660\n",
       "operation_type     146660\n",
       "dtype: int64"
      ]
     },
     "execution_count": 6,
     "metadata": {},
     "output_type": "execute_result"
    }
   ],
   "source": [
    "df.count()"
   ]
  },
  {
   "cell_type": "code",
   "execution_count": 8,
   "id": "a8111066",
   "metadata": {},
   "outputs": [
    {
     "data": {
      "text/plain": [
       "start_date          object\n",
       "end_date            object\n",
       "created_on          object\n",
       "lat                float64\n",
       "lon                float64\n",
       "l1                  object\n",
       "l2                  object\n",
       "l3                  object\n",
       "rooms              float64\n",
       "bedrooms           float64\n",
       "bathrooms          float64\n",
       "surface_total      float64\n",
       "surface_covered    float64\n",
       "price              float64\n",
       "currency            object\n",
       "title               object\n",
       "description         object\n",
       "property_type       object\n",
       "operation_type      object\n",
       "dtype: object"
      ]
     },
     "execution_count": 8,
     "metadata": {},
     "output_type": "execute_result"
    }
   ],
   "source": [
    "df.dtypes"
   ]
  },
  {
   "cell_type": "code",
   "execution_count": 9,
   "id": "94fb2ab4",
   "metadata": {},
   "outputs": [
    {
     "data": {
      "text/plain": [
       "pandas.core.frame.DataFrame"
      ]
     },
     "execution_count": 9,
     "metadata": {},
     "output_type": "execute_result"
    }
   ],
   "source": [
    "type(df)"
   ]
  },
  {
   "cell_type": "code",
   "execution_count": 10,
   "id": "2fd428b8",
   "metadata": {},
   "outputs": [
    {
     "name": "stdout",
     "output_type": "stream",
     "text": [
      "Index(['start_date', 'end_date', 'created_on', 'lat', 'lon', 'l1', 'l2', 'l3',\n",
      "       'rooms', 'bedrooms', 'bathrooms', 'surface_total', 'surface_covered',\n",
      "       'price', 'currency', 'title', 'description', 'property_type',\n",
      "       'operation_type'],\n",
      "      dtype='object')\n"
     ]
    }
   ],
   "source": [
    "print(df.columns)"
   ]
  },
  {
   "cell_type": "code",
   "execution_count": 12,
   "id": "9976d85c",
   "metadata": {},
   "outputs": [
    {
     "data": {
      "text/html": [
       "<div>\n",
       "<style scoped>\n",
       "    .dataframe tbody tr th:only-of-type {\n",
       "        vertical-align: middle;\n",
       "    }\n",
       "\n",
       "    .dataframe tbody tr th {\n",
       "        vertical-align: top;\n",
       "    }\n",
       "\n",
       "    .dataframe thead th {\n",
       "        text-align: right;\n",
       "    }\n",
       "</style>\n",
       "<table border=\"1\" class=\"dataframe\">\n",
       "  <thead>\n",
       "    <tr style=\"text-align: right;\">\n",
       "      <th></th>\n",
       "      <th>start_date</th>\n",
       "      <th>end_date</th>\n",
       "      <th>created_on</th>\n",
       "      <th>lat</th>\n",
       "      <th>lon</th>\n",
       "      <th>l1</th>\n",
       "      <th>l2</th>\n",
       "      <th>l3</th>\n",
       "      <th>rooms</th>\n",
       "      <th>bedrooms</th>\n",
       "      <th>bathrooms</th>\n",
       "      <th>surface_total</th>\n",
       "      <th>surface_covered</th>\n",
       "      <th>price</th>\n",
       "      <th>currency</th>\n",
       "      <th>title</th>\n",
       "      <th>description</th>\n",
       "      <th>property_type</th>\n",
       "      <th>operation_type</th>\n",
       "    </tr>\n",
       "  </thead>\n",
       "  <tbody>\n",
       "    <tr>\n",
       "      <th>0</th>\n",
       "      <td>2019-10-17</td>\n",
       "      <td>2019-12-23</td>\n",
       "      <td>2019-10-17</td>\n",
       "      <td>-34.605880</td>\n",
       "      <td>-58.384949</td>\n",
       "      <td>Argentina</td>\n",
       "      <td>Capital Federal</td>\n",
       "      <td>San Cristobal</td>\n",
       "      <td>7.0</td>\n",
       "      <td>7.0</td>\n",
       "      <td>2.0</td>\n",
       "      <td>140.0</td>\n",
       "      <td>140.0</td>\n",
       "      <td>153000.0</td>\n",
       "      <td>USD</td>\n",
       "      <td>***Venta semipiso centro, ideal hostel*****</td>\n",
       "      <td>DESCRIPCION DE LA PROPIEDAD: Departamento de 1...</td>\n",
       "      <td>Departamento</td>\n",
       "      <td>Venta</td>\n",
       "    </tr>\n",
       "    <tr>\n",
       "      <th>1</th>\n",
       "      <td>2019-10-17</td>\n",
       "      <td>2019-11-21</td>\n",
       "      <td>2019-10-17</td>\n",
       "      <td>-34.624056</td>\n",
       "      <td>-58.412110</td>\n",
       "      <td>Argentina</td>\n",
       "      <td>Capital Federal</td>\n",
       "      <td>Boedo</td>\n",
       "      <td>2.0</td>\n",
       "      <td>1.0</td>\n",
       "      <td>2.0</td>\n",
       "      <td>70.0</td>\n",
       "      <td>58.0</td>\n",
       "      <td>159000.0</td>\n",
       "      <td>USD</td>\n",
       "      <td>Espectacular PH reciclado en Boedo sin expensas.</td>\n",
       "      <td>PH reciclado en Boedo a una cuadra de la plaz...</td>\n",
       "      <td>PH</td>\n",
       "      <td>Venta</td>\n",
       "    </tr>\n",
       "    <tr>\n",
       "      <th>2</th>\n",
       "      <td>2019-10-17</td>\n",
       "      <td>2019-11-01</td>\n",
       "      <td>2019-10-17</td>\n",
       "      <td>-34.593569</td>\n",
       "      <td>-58.427474</td>\n",
       "      <td>Argentina</td>\n",
       "      <td>Capital Federal</td>\n",
       "      <td>Palermo</td>\n",
       "      <td>2.0</td>\n",
       "      <td>1.0</td>\n",
       "      <td>1.0</td>\n",
       "      <td>45.0</td>\n",
       "      <td>45.0</td>\n",
       "      <td>125000.0</td>\n",
       "      <td>USD</td>\n",
       "      <td>Depto.tipo casa de 2 ambientes en Venta en Pal...</td>\n",
       "      <td>2 ambienets amplio , excelente estado , patio ...</td>\n",
       "      <td>PH</td>\n",
       "      <td>Venta</td>\n",
       "    </tr>\n",
       "    <tr>\n",
       "      <th>3</th>\n",
       "      <td>2019-10-17</td>\n",
       "      <td>2019-12-23</td>\n",
       "      <td>2019-10-17</td>\n",
       "      <td>-34.581294</td>\n",
       "      <td>-58.436754</td>\n",
       "      <td>Argentina</td>\n",
       "      <td>Capital Federal</td>\n",
       "      <td>Palermo</td>\n",
       "      <td>2.0</td>\n",
       "      <td>1.0</td>\n",
       "      <td>1.0</td>\n",
       "      <td>85.0</td>\n",
       "      <td>50.0</td>\n",
       "      <td>295000.0</td>\n",
       "      <td>USD</td>\n",
       "      <td>COSTA RICA 5800 / PALERMO HOLLYWOOD / VENTA PH...</td>\n",
       "      <td>HERMOSO PH EN PALERMO!!!2 AMBIENTES TOTALMENTE...</td>\n",
       "      <td>PH</td>\n",
       "      <td>Venta</td>\n",
       "    </tr>\n",
       "    <tr>\n",
       "      <th>5</th>\n",
       "      <td>2019-10-17</td>\n",
       "      <td>2019-11-01</td>\n",
       "      <td>2019-10-17</td>\n",
       "      <td>-34.593779</td>\n",
       "      <td>-58.441239</td>\n",
       "      <td>Argentina</td>\n",
       "      <td>Capital Federal</td>\n",
       "      <td>Villa Crespo</td>\n",
       "      <td>2.0</td>\n",
       "      <td>1.0</td>\n",
       "      <td>1.0</td>\n",
       "      <td>56.0</td>\n",
       "      <td>56.0</td>\n",
       "      <td>150000.0</td>\n",
       "      <td>USD</td>\n",
       "      <td>Depto.tipo casa de 2 ambientes en Venta en Vil...</td>\n",
       "      <td>Excelente ph solo 2 unidades, no paga expensas...</td>\n",
       "      <td>PH</td>\n",
       "      <td>Venta</td>\n",
       "    </tr>\n",
       "    <tr>\n",
       "      <th>...</th>\n",
       "      <td>...</td>\n",
       "      <td>...</td>\n",
       "      <td>...</td>\n",
       "      <td>...</td>\n",
       "      <td>...</td>\n",
       "      <td>...</td>\n",
       "      <td>...</td>\n",
       "      <td>...</td>\n",
       "      <td>...</td>\n",
       "      <td>...</td>\n",
       "      <td>...</td>\n",
       "      <td>...</td>\n",
       "      <td>...</td>\n",
       "      <td>...</td>\n",
       "      <td>...</td>\n",
       "      <td>...</td>\n",
       "      <td>...</td>\n",
       "      <td>...</td>\n",
       "      <td>...</td>\n",
       "    </tr>\n",
       "    <tr>\n",
       "      <th>146554</th>\n",
       "      <td>2019-07-31</td>\n",
       "      <td>2019-08-14</td>\n",
       "      <td>2019-07-31</td>\n",
       "      <td>-34.585355</td>\n",
       "      <td>-58.427194</td>\n",
       "      <td>Argentina</td>\n",
       "      <td>Capital Federal</td>\n",
       "      <td>Palermo</td>\n",
       "      <td>4.0</td>\n",
       "      <td>3.0</td>\n",
       "      <td>3.0</td>\n",
       "      <td>175.0</td>\n",
       "      <td>111.0</td>\n",
       "      <td>570000.0</td>\n",
       "      <td>USD</td>\n",
       "      <td>Soler 4900 - PH 4 Ambientes 100% Reciclado- Pa...</td>\n",
       "      <td>Espectacular Ph 4 Ambientes de excelente calid...</td>\n",
       "      <td>PH</td>\n",
       "      <td>Venta</td>\n",
       "    </tr>\n",
       "    <tr>\n",
       "      <th>146555</th>\n",
       "      <td>2019-07-31</td>\n",
       "      <td>2019-08-14</td>\n",
       "      <td>2019-07-31</td>\n",
       "      <td>-34.585355</td>\n",
       "      <td>-58.427194</td>\n",
       "      <td>Argentina</td>\n",
       "      <td>Capital Federal</td>\n",
       "      <td>Palermo</td>\n",
       "      <td>3.0</td>\n",
       "      <td>2.0</td>\n",
       "      <td>2.0</td>\n",
       "      <td>144.0</td>\n",
       "      <td>134.0</td>\n",
       "      <td>480000.0</td>\n",
       "      <td>USD</td>\n",
       "      <td>PH Reciclado a nuevo en pleno Palermo Hollywood!</td>\n",
       "      <td>Espectacular Ph 3 Ambientes de excelente calid...</td>\n",
       "      <td>PH</td>\n",
       "      <td>Venta</td>\n",
       "    </tr>\n",
       "    <tr>\n",
       "      <th>146556</th>\n",
       "      <td>2019-07-31</td>\n",
       "      <td>2020-01-17</td>\n",
       "      <td>2019-07-31</td>\n",
       "      <td>-34.584134</td>\n",
       "      <td>-58.436389</td>\n",
       "      <td>Argentina</td>\n",
       "      <td>Capital Federal</td>\n",
       "      <td>Palermo</td>\n",
       "      <td>4.0</td>\n",
       "      <td>2.0</td>\n",
       "      <td>2.0</td>\n",
       "      <td>317.0</td>\n",
       "      <td>143.0</td>\n",
       "      <td>530000.0</td>\n",
       "      <td>USD</td>\n",
       "      <td>Hermoso PH reciclado - 4 ambientes + Pileta + ...</td>\n",
       "      <td>Hermoso PH reciclado en Palermo, 143 m2 cubier...</td>\n",
       "      <td>PH</td>\n",
       "      <td>Venta</td>\n",
       "    </tr>\n",
       "    <tr>\n",
       "      <th>146557</th>\n",
       "      <td>2019-07-31</td>\n",
       "      <td>2019-08-23</td>\n",
       "      <td>2019-07-31</td>\n",
       "      <td>-34.583995</td>\n",
       "      <td>-58.417645</td>\n",
       "      <td>Argentina</td>\n",
       "      <td>Capital Federal</td>\n",
       "      <td>Palermo</td>\n",
       "      <td>3.0</td>\n",
       "      <td>2.0</td>\n",
       "      <td>2.0</td>\n",
       "      <td>145.0</td>\n",
       "      <td>145.0</td>\n",
       "      <td>420000.0</td>\n",
       "      <td>USD</td>\n",
       "      <td>Venta. Departamento. 3 Ambientes. 145m². Ampli...</td>\n",
       "      <td>CARACTERÍSTICAS- Ambientes: 3.- Superficie tot...</td>\n",
       "      <td>Departamento</td>\n",
       "      <td>Venta</td>\n",
       "    </tr>\n",
       "    <tr>\n",
       "      <th>146558</th>\n",
       "      <td>2019-07-31</td>\n",
       "      <td>2020-01-17</td>\n",
       "      <td>2019-07-31</td>\n",
       "      <td>NaN</td>\n",
       "      <td>NaN</td>\n",
       "      <td>Argentina</td>\n",
       "      <td>Capital Federal</td>\n",
       "      <td>Palermo</td>\n",
       "      <td>4.0</td>\n",
       "      <td>3.0</td>\n",
       "      <td>5.0</td>\n",
       "      <td>220.0</td>\n",
       "      <td>210.0</td>\n",
       "      <td>1470000.0</td>\n",
       "      <td>USD</td>\n",
       "      <td>TORRE DECO SEGUI ESPECTACULAR UNIDAD DE 4 AMB ...</td>\n",
       "      <td>EXCLUSIVO Torre Deco Seguí Oportunidad de Inve...</td>\n",
       "      <td>Departamento</td>\n",
       "      <td>Venta</td>\n",
       "    </tr>\n",
       "  </tbody>\n",
       "</table>\n",
       "<p>91485 rows × 19 columns</p>\n",
       "</div>"
      ],
      "text/plain": [
       "        start_date    end_date  created_on        lat        lon         l1  \\\n",
       "0       2019-10-17  2019-12-23  2019-10-17 -34.605880 -58.384949  Argentina   \n",
       "1       2019-10-17  2019-11-21  2019-10-17 -34.624056 -58.412110  Argentina   \n",
       "2       2019-10-17  2019-11-01  2019-10-17 -34.593569 -58.427474  Argentina   \n",
       "3       2019-10-17  2019-12-23  2019-10-17 -34.581294 -58.436754  Argentina   \n",
       "5       2019-10-17  2019-11-01  2019-10-17 -34.593779 -58.441239  Argentina   \n",
       "...            ...         ...         ...        ...        ...        ...   \n",
       "146554  2019-07-31  2019-08-14  2019-07-31 -34.585355 -58.427194  Argentina   \n",
       "146555  2019-07-31  2019-08-14  2019-07-31 -34.585355 -58.427194  Argentina   \n",
       "146556  2019-07-31  2020-01-17  2019-07-31 -34.584134 -58.436389  Argentina   \n",
       "146557  2019-07-31  2019-08-23  2019-07-31 -34.583995 -58.417645  Argentina   \n",
       "146558  2019-07-31  2020-01-17  2019-07-31        NaN        NaN  Argentina   \n",
       "\n",
       "                     l2             l3  rooms  bedrooms  bathrooms  \\\n",
       "0       Capital Federal  San Cristobal    7.0       7.0        2.0   \n",
       "1       Capital Federal          Boedo    2.0       1.0        2.0   \n",
       "2       Capital Federal        Palermo    2.0       1.0        1.0   \n",
       "3       Capital Federal        Palermo    2.0       1.0        1.0   \n",
       "5       Capital Federal   Villa Crespo    2.0       1.0        1.0   \n",
       "...                 ...            ...    ...       ...        ...   \n",
       "146554  Capital Federal        Palermo    4.0       3.0        3.0   \n",
       "146555  Capital Federal        Palermo    3.0       2.0        2.0   \n",
       "146556  Capital Federal        Palermo    4.0       2.0        2.0   \n",
       "146557  Capital Federal        Palermo    3.0       2.0        2.0   \n",
       "146558  Capital Federal        Palermo    4.0       3.0        5.0   \n",
       "\n",
       "        surface_total  surface_covered      price currency  \\\n",
       "0               140.0            140.0   153000.0      USD   \n",
       "1                70.0             58.0   159000.0      USD   \n",
       "2                45.0             45.0   125000.0      USD   \n",
       "3                85.0             50.0   295000.0      USD   \n",
       "5                56.0             56.0   150000.0      USD   \n",
       "...               ...              ...        ...      ...   \n",
       "146554          175.0            111.0   570000.0      USD   \n",
       "146555          144.0            134.0   480000.0      USD   \n",
       "146556          317.0            143.0   530000.0      USD   \n",
       "146557          145.0            145.0   420000.0      USD   \n",
       "146558          220.0            210.0  1470000.0      USD   \n",
       "\n",
       "                                                    title  \\\n",
       "0             ***Venta semipiso centro, ideal hostel*****   \n",
       "1        Espectacular PH reciclado en Boedo sin expensas.   \n",
       "2       Depto.tipo casa de 2 ambientes en Venta en Pal...   \n",
       "3       COSTA RICA 5800 / PALERMO HOLLYWOOD / VENTA PH...   \n",
       "5       Depto.tipo casa de 2 ambientes en Venta en Vil...   \n",
       "...                                                   ...   \n",
       "146554  Soler 4900 - PH 4 Ambientes 100% Reciclado- Pa...   \n",
       "146555  PH Reciclado a nuevo en pleno Palermo Hollywood!    \n",
       "146556  Hermoso PH reciclado - 4 ambientes + Pileta + ...   \n",
       "146557  Venta. Departamento. 3 Ambientes. 145m². Ampli...   \n",
       "146558  TORRE DECO SEGUI ESPECTACULAR UNIDAD DE 4 AMB ...   \n",
       "\n",
       "                                              description property_type  \\\n",
       "0       DESCRIPCION DE LA PROPIEDAD: Departamento de 1...  Departamento   \n",
       "1        PH reciclado en Boedo a una cuadra de la plaz...            PH   \n",
       "2       2 ambienets amplio , excelente estado , patio ...            PH   \n",
       "3       HERMOSO PH EN PALERMO!!!2 AMBIENTES TOTALMENTE...            PH   \n",
       "5       Excelente ph solo 2 unidades, no paga expensas...            PH   \n",
       "...                                                   ...           ...   \n",
       "146554  Espectacular Ph 4 Ambientes de excelente calid...            PH   \n",
       "146555  Espectacular Ph 3 Ambientes de excelente calid...            PH   \n",
       "146556  Hermoso PH reciclado en Palermo, 143 m2 cubier...            PH   \n",
       "146557  CARACTERÍSTICAS- Ambientes: 3.- Superficie tot...  Departamento   \n",
       "146558  EXCLUSIVO Torre Deco Seguí Oportunidad de Inve...  Departamento   \n",
       "\n",
       "       operation_type  \n",
       "0               Venta  \n",
       "1               Venta  \n",
       "2               Venta  \n",
       "3               Venta  \n",
       "5               Venta  \n",
       "...               ...  \n",
       "146554          Venta  \n",
       "146555          Venta  \n",
       "146556          Venta  \n",
       "146557          Venta  \n",
       "146558          Venta  \n",
       "\n",
       "[91485 rows x 19 columns]"
      ]
     },
     "execution_count": 12,
     "metadata": {},
     "output_type": "execute_result"
    }
   ],
   "source": [
    "# Vamos a filtrar algunos datos para realizar el analisis de regresion!\n",
    "df_filtrado = df[df.property_type.isin(['PH','Casa', 'Departamento'])&(df.l2 == \"Capital Federal\")]\n",
    "df_filtrado"
   ]
  },
  {
   "cell_type": "markdown",
   "id": "9ecfe88e",
   "metadata": {},
   "source": [
    "Se seleccionan propiedades cuya superficie este entre 15 y 10000"
   ]
  },
  {
   "cell_type": "code",
   "execution_count": 14,
   "id": "9cb19a78",
   "metadata": {},
   "outputs": [
    {
     "data": {
      "text/plain": [
       "(82405, 19)"
      ]
     },
     "execution_count": 14,
     "metadata": {},
     "output_type": "execute_result"
    }
   ],
   "source": [
    "df_filtrado = df_filtrado[(df_filtrado.surface_total <= 1000) & (df_filtrado.surface_total >=15)]\n",
    "df_filtrado.shape"
   ]
  },
  {
   "cell_type": "markdown",
   "id": "05373226",
   "metadata": {},
   "source": [
    "Se seleccionan propiedades cuyo precio sea menor o igual a 400000 dolares"
   ]
  },
  {
   "cell_type": "code",
   "execution_count": 15,
   "id": "1da17f33",
   "metadata": {},
   "outputs": [
    {
     "data": {
      "text/plain": [
       "(71819, 19)"
      ]
     },
     "execution_count": 15,
     "metadata": {},
     "output_type": "execute_result"
    }
   ],
   "source": [
    "df_filtrado = df_filtrado[(df_filtrado.price <= 400000)] \n",
    "df_filtrado.shape"
   ]
  },
  {
   "cell_type": "code",
   "execution_count": 17,
   "id": "445da779",
   "metadata": {},
   "outputs": [
    {
     "data": {
      "text/plain": [
       "(71819, 6)"
      ]
     },
     "execution_count": 17,
     "metadata": {},
     "output_type": "execute_result"
    }
   ],
   "source": [
    "df_filtrado = df_filtrado[['rooms', 'bedrooms', 'bathrooms', 'surface_total', 'surface_covered', 'price']]\n",
    "df_filtrado.shape"
   ]
  },
  {
   "cell_type": "code",
   "execution_count": 18,
   "id": "2975429f",
   "metadata": {},
   "outputs": [
    {
     "name": "stdout",
     "output_type": "stream",
     "text": [
      "rooms                0\n",
      "bedrooms             0\n",
      "bathrooms          804\n",
      "surface_total        0\n",
      "surface_covered    478\n",
      "price                0\n",
      "dtype: int64\n"
     ]
    }
   ],
   "source": [
    "# Se determinan si existen vaolres null\n",
    "print(df_filtrado.isnull().sum())"
   ]
  },
  {
   "cell_type": "code",
   "execution_count": 19,
   "id": "ff64c02b",
   "metadata": {},
   "outputs": [],
   "source": [
    "#Eliminamos los valores missings\n",
    "df_filtrado = df_filtrado.dropna()"
   ]
  },
  {
   "cell_type": "code",
   "execution_count": 20,
   "id": "3506c42b",
   "metadata": {},
   "outputs": [
    {
     "name": "stdout",
     "output_type": "stream",
     "text": [
      "rooms              0\n",
      "bedrooms           0\n",
      "bathrooms          0\n",
      "surface_total      0\n",
      "surface_covered    0\n",
      "price              0\n",
      "dtype: int64\n"
     ]
    }
   ],
   "source": [
    "#Verificamos que no tenemos valores missings\n",
    "print(df_filtrado.isnull().sum())"
   ]
  },
  {
   "cell_type": "code",
   "execution_count": 21,
   "id": "46a4e510",
   "metadata": {},
   "outputs": [
    {
     "data": {
      "text/plain": [
       "(70579, 6)"
      ]
     },
     "execution_count": 21,
     "metadata": {},
     "output_type": "execute_result"
    }
   ],
   "source": [
    "df_filtrado.shape"
   ]
  },
  {
   "cell_type": "markdown",
   "id": "809374eb",
   "metadata": {},
   "source": [
    "Analizamos en este punto el analisis de correlacion"
   ]
  },
  {
   "cell_type": "code",
   "execution_count": 23,
   "id": "620a7b59",
   "metadata": {},
   "outputs": [
    {
     "data": {
      "text/plain": [
       "<Axes: >"
      ]
     },
     "execution_count": 23,
     "metadata": {},
     "output_type": "execute_result"
    },
    {
     "data": {
      "image/png": "[encoded data removed]",
      "text/plain": [
       "<Figure size 640x480 with 2 Axes>"
      ]
     },
     "metadata": {},
     "output_type": "display_data"
    }
   ],
   "source": [
    "#Antes de armar el modelo de regresion, analicemos las correlaciones\n",
    "import seaborn as sns\n",
    "corr = df_filtrado.corr()\n",
    "sns.heatmap(corr, cbar = True, square = True, annot = True, fmt = '.2f', annot_kws = {'size': 15}, cmap = 'coolwarm')"
   ]
  },
  {
   "cell_type": "code",
   "execution_count": 24,
   "id": "9262614b",
   "metadata": {},
   "outputs": [],
   "source": [
    "#Importamos las librerias de analisis de ML\n",
    "from sklearn.metrics import mean_squared_error\n",
    "from sklearn.model_selection import train_test_split"
   ]
  },
  {
   "cell_type": "code",
   "execution_count": 25,
   "id": "7ab34b30",
   "metadata": {},
   "outputs": [],
   "source": [
    "X = df_filtrado[['rooms', 'bedrooms', 'bathrooms', 'surface_total', 'surface_covered']] #Estas son las variables que predeciran el Y\n",
    "y = df_filtrado.price #Este es el target 'Variable respuesta'"
   ]
  },
  {
   "cell_type": "code",
   "execution_count": 27,
   "id": "b135bb7f",
   "metadata": {},
   "outputs": [],
   "source": [
    "#Separo en train y test\n",
    "X_train, X_test, y_train, y_test = train_test_split(X, y, test_size=0.3, random_state=42)"
   ]
  },
  {
   "cell_type": "code",
   "execution_count": 30,
   "id": "b2bf216b",
   "metadata": {},
   "outputs": [],
   "source": [
    "#Generamos el modelo de regresion\n",
    "from sklearn.linear_model import LinearRegression\n",
    "linear_model = LinearRegression()"
   ]
  },
  {
   "cell_type": "code",
   "execution_count": 31,
   "id": "7b77d00d",
   "metadata": {},
   "outputs": [
    {
     "data": {
      "text/html": [
       "<style>#sk-container-id-1 {color: black;background-color: white;}#sk-container-id-1 pre{padding: 0;}#sk-container-id-1 div.sk-toggleable {background-color: white;}#sk-container-id-1 label.sk-toggleable__label {cursor: pointer;display: block;width: 100%;margin-bottom: 0;padding: 0.3em;box-sizing: border-box;text-align: center;}#sk-container-id-1 label.sk-toggleable__label-arrow:before {content: \"▸\";float: left;margin-right: 0.25em;color: #696969;}#sk-container-id-1 label.sk-toggleable__label-arrow:hover:before {color: black;}#sk-container-id-1 div.sk-estimator:hover label.sk-toggleable__label-arrow:before {color: black;}#sk-container-id-1 div.sk-toggleable__content {max-height: 0;max-width: 0;overflow: hidden;text-align: left;background-color: #f0f8ff;}#sk-container-id-1 div.sk-toggleable__content pre {margin: 0.2em;color: black;border-radius: 0.25em;background-color: #f0f8ff;}#sk-container-id-1 input.sk-toggleable__control:checked~div.sk-toggleable__content {max-height: 200px;max-width: 100%;overflow: auto;}#sk-container-id-1 input.sk-toggleable__control:checked~label.sk-toggleable__label-arrow:before {content: \"▾\";}#sk-container-id-1 div.sk-estimator input.sk-toggleable__control:checked~label.sk-toggleable__label {background-color: #d4ebff;}#sk-container-id-1 div.sk-label input.sk-toggleable__control:checked~label.sk-toggleable__label {background-color: #d4ebff;}#sk-container-id-1 input.sk-hidden--visually {border: 0;clip: rect(1px 1px 1px 1px);clip: rect(1px, 1px, 1px, 1px);height: 1px;margin: -1px;overflow: hidden;padding: 0;position: absolute;width: 1px;}#sk-container-id-1 div.sk-estimator {font-family: monospace;background-color: #f0f8ff;border: 1px dotted black;border-radius: 0.25em;box-sizing: border-box;margin-bottom: 0.5em;}#sk-container-id-1 div.sk-estimator:hover {background-color: #d4ebff;}#sk-container-id-1 div.sk-parallel-item::after {content: \"\";width: 100%;border-bottom: 1px solid gray;flex-grow: 1;}#sk-container-id-1 div.sk-label:hover label.sk-toggleable__label {background-color: #d4ebff;}#sk-container-id-1 div.sk-serial::before {content: \"\";position: absolute;border-left: 1px solid gray;box-sizing: border-box;top: 0;bottom: 0;left: 50%;z-index: 0;}#sk-container-id-1 div.sk-serial {display: flex;flex-direction: column;align-items: center;background-color: white;padding-right: 0.2em;padding-left: 0.2em;position: relative;}#sk-container-id-1 div.sk-item {position: relative;z-index: 1;}#sk-container-id-1 div.sk-parallel {display: flex;align-items: stretch;justify-content: center;background-color: white;position: relative;}#sk-container-id-1 div.sk-item::before, #sk-container-id-1 div.sk-parallel-item::before {content: \"\";position: absolute;border-left: 1px solid gray;box-sizing: border-box;top: 0;bottom: 0;left: 50%;z-index: -1;}#sk-container-id-1 div.sk-parallel-item {display: flex;flex-direction: column;z-index: 1;position: relative;background-color: white;}#sk-container-id-1 div.sk-parallel-item:first-child::after {align-self: flex-end;width: 50%;}#sk-container-id-1 div.sk-parallel-item:last-child::after {align-self: flex-start;width: 50%;}#sk-container-id-1 div.sk-parallel-item:only-child::after {width: 0;}#sk-container-id-1 div.sk-dashed-wrapped {border: 1px dashed gray;margin: 0 0.4em 0.5em 0.4em;box-sizing: border-box;padding-bottom: 0.4em;background-color: white;}#sk-container-id-1 div.sk-label label {font-family: monospace;font-weight: bold;display: inline-block;line-height: 1.2em;}#sk-container-id-1 div.sk-label-container {text-align: center;}#sk-container-id-1 div.sk-container {/* jupyter's `normalize.less` sets `[hidden] { display: none; }` but bootstrap.min.css set `[hidden] { display: none !important; }` so we also need the `!important` here to be able to override the default hidden behavior on the sphinx rendered scikit-learn.org. See: https://github.com/scikit-learn/scikit-learn/issues/21755 */display: inline-block !important;position: relative;}#sk-container-id-1 div.sk-text-repr-fallback {display: none;}</style><div id=\"sk-container-id-1\" class=\"sk-top-container\"><div class=\"sk-text-repr-fallback\"><pre>LinearRegression()</pre><b>In a Jupyter environment, please rerun this cell to show the HTML representation or trust the notebook. <br />On GitHub, the HTML representation is unable to render, please try loading this page with nbviewer.org.</b></div><div class=\"sk-container\" hidden><div class=\"sk-item\"><div class=\"sk-estimator sk-toggleable\"><input class=\"sk-toggleable__control sk-hidden--visually\" id=\"sk-estimator-id-1\" type=\"checkbox\" checked><label for=\"sk-estimator-id-1\" class=\"sk-toggleable__label sk-toggleable__label-arrow\">LinearRegression</label><div class=\"sk-toggleable__content\"><pre>LinearRegression()</pre></div></div></div></div></div>"
      ],
      "text/plain": [
       "LinearRegression()"
      ]
     },
     "execution_count": 31,
     "metadata": {},
     "output_type": "execute_result"
    }
   ],
   "source": [
    "#Ajuste del modelo con fit con esto se entrena el modelo\n",
    "linear_model.fit(X_train, y_train)"
   ]
  },
  {
   "cell_type": "code",
   "execution_count": 33,
   "id": "69141659",
   "metadata": {},
   "outputs": [
    {
     "name": "stdout",
     "output_type": "stream",
     "text": [
      "Modelo benchmark: Regresion Lineal\n",
      "Raiz del error cuadratico medio en train: 58073.594119340545\n",
      "Raiz del error cuadratico medio en test: 58124.61996742489\n"
     ]
    }
   ],
   "source": [
    "#Evaluamos el modelo\n",
    "from sklearn.metrics import mean_squared_error\n",
    "modelo = ['Regresion Lineal']\n",
    "\n",
    "for i, model in enumerate ([linear_model]):\n",
    "    y_train_pred = model.predict(X_train)\n",
    "    y_test_pred = model.predict(X_test)\n",
    "    \n",
    "    print(f'Modelo benchmark: {modelo[i]}')\n",
    "    \n",
    "    rmse_train = np.sqrt(mean_squared_error(y_train, y_train_pred ))\n",
    "    rmse_test = np.sqrt(mean_squared_error(y_test, y_test_pred ))\n",
    "    \n",
    "    print(f'Raiz del error cuadratico medio en train: {rmse_train}')\n",
    "    print(f'Raiz del error cuadratico medio en test: {rmse_test}')"
   ]
  },
  {
   "cell_type": "code",
   "execution_count": 34,
   "id": "f77df742",
   "metadata": {},
   "outputs": [],
   "source": [
    "#Ahora entrenamos el modelo del arbol de decision\n",
    "from sklearn.tree import DecisionTreeRegressor\n",
    "from sklearn.neighbors import KNeighborsRegressor\n"
   ]
  },
  {
   "cell_type": "code",
   "execution_count": 35,
   "id": "6a4d2bea",
   "metadata": {},
   "outputs": [],
   "source": [
    "#Creamos los modelos\n",
    "tree_regressor = DecisionTreeRegressor(max_depth = 3, random_state=42)\n",
    "knn_regressor = KNeighborsRegressor(n_neighbors=5)"
   ]
  },
  {
   "cell_type": "code",
   "execution_count": 36,
   "id": "a29c40f4",
   "metadata": {},
   "outputs": [
    {
     "data": {
      "text/html": [
       "<style>#sk-container-id-2 {color: black;background-color: white;}#sk-container-id-2 pre{padding: 0;}#sk-container-id-2 div.sk-toggleable {background-color: white;}#sk-container-id-2 label.sk-toggleable__label {cursor: pointer;display: block;width: 100%;margin-bottom: 0;padding: 0.3em;box-sizing: border-box;text-align: center;}#sk-container-id-2 label.sk-toggleable__label-arrow:before {content: \"▸\";float: left;margin-right: 0.25em;color: #696969;}#sk-container-id-2 label.sk-toggleable__label-arrow:hover:before {color: black;}#sk-container-id-2 div.sk-estimator:hover label.sk-toggleable__label-arrow:before {color: black;}#sk-container-id-2 div.sk-toggleable__content {max-height: 0;max-width: 0;overflow: hidden;text-align: left;background-color: #f0f8ff;}#sk-container-id-2 div.sk-toggleable__content pre {margin: 0.2em;color: black;border-radius: 0.25em;background-color: #f0f8ff;}#sk-container-id-2 input.sk-toggleable__control:checked~div.sk-toggleable__content {max-height: 200px;max-width: 100%;overflow: auto;}#sk-container-id-2 input.sk-toggleable__control:checked~label.sk-toggleable__label-arrow:before {content: \"▾\";}#sk-container-id-2 div.sk-estimator input.sk-toggleable__control:checked~label.sk-toggleable__label {background-color: #d4ebff;}#sk-container-id-2 div.sk-label input.sk-toggleable__control:checked~label.sk-toggleable__label {background-color: #d4ebff;}#sk-container-id-2 input.sk-hidden--visually {border: 0;clip: rect(1px 1px 1px 1px);clip: rect(1px, 1px, 1px, 1px);height: 1px;margin: -1px;overflow: hidden;padding: 0;position: absolute;width: 1px;}#sk-container-id-2 div.sk-estimator {font-family: monospace;background-color: #f0f8ff;border: 1px dotted black;border-radius: 0.25em;box-sizing: border-box;margin-bottom: 0.5em;}#sk-container-id-2 div.sk-estimator:hover {background-color: #d4ebff;}#sk-container-id-2 div.sk-parallel-item::after {content: \"\";width: 100%;border-bottom: 1px solid gray;flex-grow: 1;}#sk-container-id-2 div.sk-label:hover label.sk-toggleable__label {background-color: #d4ebff;}#sk-container-id-2 div.sk-serial::before {content: \"\";position: absolute;border-left: 1px solid gray;box-sizing: border-box;top: 0;bottom: 0;left: 50%;z-index: 0;}#sk-container-id-2 div.sk-serial {display: flex;flex-direction: column;align-items: center;background-color: white;padding-right: 0.2em;padding-left: 0.2em;position: relative;}#sk-container-id-2 div.sk-item {position: relative;z-index: 1;}#sk-container-id-2 div.sk-parallel {display: flex;align-items: stretch;justify-content: center;background-color: white;position: relative;}#sk-container-id-2 div.sk-item::before, #sk-container-id-2 div.sk-parallel-item::before {content: \"\";position: absolute;border-left: 1px solid gray;box-sizing: border-box;top: 0;bottom: 0;left: 50%;z-index: -1;}#sk-container-id-2 div.sk-parallel-item {display: flex;flex-direction: column;z-index: 1;position: relative;background-color: white;}#sk-container-id-2 div.sk-parallel-item:first-child::after {align-self: flex-end;width: 50%;}#sk-container-id-2 div.sk-parallel-item:last-child::after {align-self: flex-start;width: 50%;}#sk-container-id-2 div.sk-parallel-item:only-child::after {width: 0;}#sk-container-id-2 div.sk-dashed-wrapped {border: 1px dashed gray;margin: 0 0.4em 0.5em 0.4em;box-sizing: border-box;padding-bottom: 0.4em;background-color: white;}#sk-container-id-2 div.sk-label label {font-family: monospace;font-weight: bold;display: inline-block;line-height: 1.2em;}#sk-container-id-2 div.sk-label-container {text-align: center;}#sk-container-id-2 div.sk-container {/* jupyter's `normalize.less` sets `[hidden] { display: none; }` but bootstrap.min.css set `[hidden] { display: none !important; }` so we also need the `!important` here to be able to override the default hidden behavior on the sphinx rendered scikit-learn.org. See: https://github.com/scikit-learn/scikit-learn/issues/21755 */display: inline-block !important;position: relative;}#sk-container-id-2 div.sk-text-repr-fallback {display: none;}</style><div id=\"sk-container-id-2\" class=\"sk-top-container\"><div class=\"sk-text-repr-fallback\"><pre>DecisionTreeRegressor(max_depth=3, random_state=42)</pre><b>In a Jupyter environment, please rerun this cell to show the HTML representation or trust the notebook. <br />On GitHub, the HTML representation is unable to render, please try loading this page with nbviewer.org.</b></div><div class=\"sk-container\" hidden><div class=\"sk-item\"><div class=\"sk-estimator sk-toggleable\"><input class=\"sk-toggleable__control sk-hidden--visually\" id=\"sk-estimator-id-2\" type=\"checkbox\" checked><label for=\"sk-estimator-id-2\" class=\"sk-toggleable__label sk-toggleable__label-arrow\">DecisionTreeRegressor</label><div class=\"sk-toggleable__content\"><pre>DecisionTreeRegressor(max_depth=3, random_state=42)</pre></div></div></div></div></div>"
      ],
      "text/plain": [
       "DecisionTreeRegressor(max_depth=3, random_state=42)"
      ]
     },
     "execution_count": 36,
     "metadata": {},
     "output_type": "execute_result"
    }
   ],
   "source": [
    "tree_regressor.fit(X_train, y_train)"
   ]
  },
  {
   "cell_type": "code",
   "execution_count": 37,
   "id": "f09f16de",
   "metadata": {},
   "outputs": [
    {
     "data": {
      "text/html": [
       "<style>#sk-container-id-3 {color: black;background-color: white;}#sk-container-id-3 pre{padding: 0;}#sk-container-id-3 div.sk-toggleable {background-color: white;}#sk-container-id-3 label.sk-toggleable__label {cursor: pointer;display: block;width: 100%;margin-bottom: 0;padding: 0.3em;box-sizing: border-box;text-align: center;}#sk-container-id-3 label.sk-toggleable__label-arrow:before {content: \"▸\";float: left;margin-right: 0.25em;color: #696969;}#sk-container-id-3 label.sk-toggleable__label-arrow:hover:before {color: black;}#sk-container-id-3 div.sk-estimator:hover label.sk-toggleable__label-arrow:before {color: black;}#sk-container-id-3 div.sk-toggleable__content {max-height: 0;max-width: 0;overflow: hidden;text-align: left;background-color: #f0f8ff;}#sk-container-id-3 div.sk-toggleable__content pre {margin: 0.2em;color: black;border-radius: 0.25em;background-color: #f0f8ff;}#sk-container-id-3 input.sk-toggleable__control:checked~div.sk-toggleable__content {max-height: 200px;max-width: 100%;overflow: auto;}#sk-container-id-3 input.sk-toggleable__control:checked~label.sk-toggleable__label-arrow:before {content: \"▾\";}#sk-container-id-3 div.sk-estimator input.sk-toggleable__control:checked~label.sk-toggleable__label {background-color: #d4ebff;}#sk-container-id-3 div.sk-label input.sk-toggleable__control:checked~label.sk-toggleable__label {background-color: #d4ebff;}#sk-container-id-3 input.sk-hidden--visually {border: 0;clip: rect(1px 1px 1px 1px);clip: rect(1px, 1px, 1px, 1px);height: 1px;margin: -1px;overflow: hidden;padding: 0;position: absolute;width: 1px;}#sk-container-id-3 div.sk-estimator {font-family: monospace;background-color: #f0f8ff;border: 1px dotted black;border-radius: 0.25em;box-sizing: border-box;margin-bottom: 0.5em;}#sk-container-id-3 div.sk-estimator:hover {background-color: #d4ebff;}#sk-container-id-3 div.sk-parallel-item::after {content: \"\";width: 100%;border-bottom: 1px solid gray;flex-grow: 1;}#sk-container-id-3 div.sk-label:hover label.sk-toggleable__label {background-color: #d4ebff;}#sk-container-id-3 div.sk-serial::before {content: \"\";position: absolute;border-left: 1px solid gray;box-sizing: border-box;top: 0;bottom: 0;left: 50%;z-index: 0;}#sk-container-id-3 div.sk-serial {display: flex;flex-direction: column;align-items: center;background-color: white;padding-right: 0.2em;padding-left: 0.2em;position: relative;}#sk-container-id-3 div.sk-item {position: relative;z-index: 1;}#sk-container-id-3 div.sk-parallel {display: flex;align-items: stretch;justify-content: center;background-color: white;position: relative;}#sk-container-id-3 div.sk-item::before, #sk-container-id-3 div.sk-parallel-item::before {content: \"\";position: absolute;border-left: 1px solid gray;box-sizing: border-box;top: 0;bottom: 0;left: 50%;z-index: -1;}#sk-container-id-3 div.sk-parallel-item {display: flex;flex-direction: column;z-index: 1;position: relative;background-color: white;}#sk-container-id-3 div.sk-parallel-item:first-child::after {align-self: flex-end;width: 50%;}#sk-container-id-3 div.sk-parallel-item:last-child::after {align-self: flex-start;width: 50%;}#sk-container-id-3 div.sk-parallel-item:only-child::after {width: 0;}#sk-container-id-3 div.sk-dashed-wrapped {border: 1px dashed gray;margin: 0 0.4em 0.5em 0.4em;box-sizing: border-box;padding-bottom: 0.4em;background-color: white;}#sk-container-id-3 div.sk-label label {font-family: monospace;font-weight: bold;display: inline-block;line-height: 1.2em;}#sk-container-id-3 div.sk-label-container {text-align: center;}#sk-container-id-3 div.sk-container {/* jupyter's `normalize.less` sets `[hidden] { display: none; }` but bootstrap.min.css set `[hidden] { display: none !important; }` so we also need the `!important` here to be able to override the default hidden behavior on the sphinx rendered scikit-learn.org. See: https://github.com/scikit-learn/scikit-learn/issues/21755 */display: inline-block !important;position: relative;}#sk-container-id-3 div.sk-text-repr-fallback {display: none;}</style><div id=\"sk-container-id-3\" class=\"sk-top-container\"><div class=\"sk-text-repr-fallback\"><pre>KNeighborsRegressor()</pre><b>In a Jupyter environment, please rerun this cell to show the HTML representation or trust the notebook. <br />On GitHub, the HTML representation is unable to render, please try loading this page with nbviewer.org.</b></div><div class=\"sk-container\" hidden><div class=\"sk-item\"><div class=\"sk-estimator sk-toggleable\"><input class=\"sk-toggleable__control sk-hidden--visually\" id=\"sk-estimator-id-3\" type=\"checkbox\" checked><label for=\"sk-estimator-id-3\" class=\"sk-toggleable__label sk-toggleable__label-arrow\">KNeighborsRegressor</label><div class=\"sk-toggleable__content\"><pre>KNeighborsRegressor()</pre></div></div></div></div></div>"
      ],
      "text/plain": [
       "KNeighborsRegressor()"
      ]
     },
     "execution_count": 37,
     "metadata": {},
     "output_type": "execute_result"
    }
   ],
   "source": [
    "knn_regressor.fit(X_train, y_train)"
   ]
  },
  {
   "cell_type": "code",
   "execution_count": 44,
   "id": "6ba08e87",
   "metadata": {},
   "outputs": [
    {
     "name": "stdout",
     "output_type": "stream",
     "text": [
      "Modelo benchmark: Arbol de Decision\n",
      "Raiz del error cuadratico medio en train: 52001.31056528674\n",
      "Raiz del error cuadratico medio en test: 52058.134016800934\n",
      "\n",
      "Modelo benchmark: Vecinos mas Cercanos\n",
      "Raiz del error cuadratico medio en train: 40878.61732403527\n",
      "Raiz del error cuadratico medio en test: 46380.342513545416\n",
      "\n"
     ]
    }
   ],
   "source": [
    "#Realizamos la prediccion y calculamos el RMSE de los modelos\n",
    "modelos = ['Arbol de Decision', 'Vecinos mas Cercanos']\n",
    "\n",
    "for i, model in enumerate ([tree_regressor, knn_regressor]):\n",
    "    y_train_pred = model.predict(X_train)\n",
    "    y_test_pred = model.predict(X_test)\n",
    "    \n",
    "    print(f'Modelo benchmark: {modelos[i]}')\n",
    "    \n",
    "    rmse_train = np.sqrt(mean_squared_error(y_train, y_train_pred ))\n",
    "    rmse_test = np.sqrt(mean_squared_error(y_test, y_test_pred ))\n",
    "    \n",
    "    print(f'Raiz del error cuadratico medio en train: {rmse_train}')\n",
    "    print(f'Raiz del error cuadratico medio en test: {rmse_test}')\n",
    "    print('')"
   ]
  },
  {
   "cell_type": "markdown",
   "id": "d702d5a0",
   "metadata": {},
   "source": [
    "Dato adicional:"
   ]
  },
  {
   "cell_type": "code",
   "execution_count": 45,
   "id": "07215412",
   "metadata": {},
   "outputs": [],
   "source": [
    "#Probamos menos features\n",
    "X = df_filtrado[['bathrooms', 'surface_total']] #Estas son las variables que predeciran el Y\n",
    "y = df_filtrado.price #Este es el target 'Variable respuesta'"
   ]
  },
  {
   "cell_type": "code",
   "execution_count": 46,
   "id": "8f5006f9",
   "metadata": {},
   "outputs": [],
   "source": [
    "#Realizamos un train/test de los datos\n",
    "\n",
    "from sklearn.model_selection import train_test_split\n",
    "X_train, X_test, y_train, y_test = train_test_split(X, y, test_size=0.3, random_state=42)"
   ]
  },
  {
   "cell_type": "code",
   "execution_count": 47,
   "id": "ec51d7c8",
   "metadata": {},
   "outputs": [],
   "source": [
    "#Importamos la regresion lineal\n",
    "from sklearn.linear_model import LinearRegression\n",
    "linear_model = LinearRegression()"
   ]
  },
  {
   "cell_type": "code",
   "execution_count": 48,
   "id": "eae0658e",
   "metadata": {},
   "outputs": [
    {
     "data": {
      "text/html": [
       "<style>#sk-container-id-4 {color: black;background-color: white;}#sk-container-id-4 pre{padding: 0;}#sk-container-id-4 div.sk-toggleable {background-color: white;}#sk-container-id-4 label.sk-toggleable__label {cursor: pointer;display: block;width: 100%;margin-bottom: 0;padding: 0.3em;box-sizing: border-box;text-align: center;}#sk-container-id-4 label.sk-toggleable__label-arrow:before {content: \"▸\";float: left;margin-right: 0.25em;color: #696969;}#sk-container-id-4 label.sk-toggleable__label-arrow:hover:before {color: black;}#sk-container-id-4 div.sk-estimator:hover label.sk-toggleable__label-arrow:before {color: black;}#sk-container-id-4 div.sk-toggleable__content {max-height: 0;max-width: 0;overflow: hidden;text-align: left;background-color: #f0f8ff;}#sk-container-id-4 div.sk-toggleable__content pre {margin: 0.2em;color: black;border-radius: 0.25em;background-color: #f0f8ff;}#sk-container-id-4 input.sk-toggleable__control:checked~div.sk-toggleable__content {max-height: 200px;max-width: 100%;overflow: auto;}#sk-container-id-4 input.sk-toggleable__control:checked~label.sk-toggleable__label-arrow:before {content: \"▾\";}#sk-container-id-4 div.sk-estimator input.sk-toggleable__control:checked~label.sk-toggleable__label {background-color: #d4ebff;}#sk-container-id-4 div.sk-label input.sk-toggleable__control:checked~label.sk-toggleable__label {background-color: #d4ebff;}#sk-container-id-4 input.sk-hidden--visually {border: 0;clip: rect(1px 1px 1px 1px);clip: rect(1px, 1px, 1px, 1px);height: 1px;margin: -1px;overflow: hidden;padding: 0;position: absolute;width: 1px;}#sk-container-id-4 div.sk-estimator {font-family: monospace;background-color: #f0f8ff;border: 1px dotted black;border-radius: 0.25em;box-sizing: border-box;margin-bottom: 0.5em;}#sk-container-id-4 div.sk-estimator:hover {background-color: #d4ebff;}#sk-container-id-4 div.sk-parallel-item::after {content: \"\";width: 100%;border-bottom: 1px solid gray;flex-grow: 1;}#sk-container-id-4 div.sk-label:hover label.sk-toggleable__label {background-color: #d4ebff;}#sk-container-id-4 div.sk-serial::before {content: \"\";position: absolute;border-left: 1px solid gray;box-sizing: border-box;top: 0;bottom: 0;left: 50%;z-index: 0;}#sk-container-id-4 div.sk-serial {display: flex;flex-direction: column;align-items: center;background-color: white;padding-right: 0.2em;padding-left: 0.2em;position: relative;}#sk-container-id-4 div.sk-item {position: relative;z-index: 1;}#sk-container-id-4 div.sk-parallel {display: flex;align-items: stretch;justify-content: center;background-color: white;position: relative;}#sk-container-id-4 div.sk-item::before, #sk-container-id-4 div.sk-parallel-item::before {content: \"\";position: absolute;border-left: 1px solid gray;box-sizing: border-box;top: 0;bottom: 0;left: 50%;z-index: -1;}#sk-container-id-4 div.sk-parallel-item {display: flex;flex-direction: column;z-index: 1;position: relative;background-color: white;}#sk-container-id-4 div.sk-parallel-item:first-child::after {align-self: flex-end;width: 50%;}#sk-container-id-4 div.sk-parallel-item:last-child::after {align-self: flex-start;width: 50%;}#sk-container-id-4 div.sk-parallel-item:only-child::after {width: 0;}#sk-container-id-4 div.sk-dashed-wrapped {border: 1px dashed gray;margin: 0 0.4em 0.5em 0.4em;box-sizing: border-box;padding-bottom: 0.4em;background-color: white;}#sk-container-id-4 div.sk-label label {font-family: monospace;font-weight: bold;display: inline-block;line-height: 1.2em;}#sk-container-id-4 div.sk-label-container {text-align: center;}#sk-container-id-4 div.sk-container {/* jupyter's `normalize.less` sets `[hidden] { display: none; }` but bootstrap.min.css set `[hidden] { display: none !important; }` so we also need the `!important` here to be able to override the default hidden behavior on the sphinx rendered scikit-learn.org. See: https://github.com/scikit-learn/scikit-learn/issues/21755 */display: inline-block !important;position: relative;}#sk-container-id-4 div.sk-text-repr-fallback {display: none;}</style><div id=\"sk-container-id-4\" class=\"sk-top-container\"><div class=\"sk-text-repr-fallback\"><pre>LinearRegression()</pre><b>In a Jupyter environment, please rerun this cell to show the HTML representation or trust the notebook. <br />On GitHub, the HTML representation is unable to render, please try loading this page with nbviewer.org.</b></div><div class=\"sk-container\" hidden><div class=\"sk-item\"><div class=\"sk-estimator sk-toggleable\"><input class=\"sk-toggleable__control sk-hidden--visually\" id=\"sk-estimator-id-4\" type=\"checkbox\" checked><label for=\"sk-estimator-id-4\" class=\"sk-toggleable__label sk-toggleable__label-arrow\">LinearRegression</label><div class=\"sk-toggleable__content\"><pre>LinearRegression()</pre></div></div></div></div></div>"
      ],
      "text/plain": [
       "LinearRegression()"
      ]
     },
     "execution_count": 48,
     "metadata": {},
     "output_type": "execute_result"
    }
   ],
   "source": [
    "linear_model.fit(X_train, y_train)"
   ]
  },
  {
   "cell_type": "code",
   "execution_count": 49,
   "id": "16977e72",
   "metadata": {},
   "outputs": [
    {
     "name": "stdout",
     "output_type": "stream",
     "text": [
      "Modelo benchmark: Arbol de Decision\n",
      "Raiz del error cuadratico medio en train: 59302.69940161263\n",
      "Raiz del error cuadratico medio en test: 59340.0955074965\n",
      "\n"
     ]
    }
   ],
   "source": [
    "#Evaluamos el modelo\n",
    "from sklearn.metrics import mean_squared_error\n",
    "modelo = ['Regresion Lineal']\n",
    "\n",
    "for i, model in enumerate ([linear_model]):\n",
    "    y_train_pred = model.predict(X_train)\n",
    "    y_test_pred = model.predict(X_test)\n",
    "    \n",
    "    print(f'Modelo benchmark: {modelos[i]}')\n",
    "    \n",
    "    rmse_train = np.sqrt(mean_squared_error(y_train, y_train_pred ))\n",
    "    rmse_test = np.sqrt(mean_squared_error(y_test, y_test_pred ))\n",
    "    \n",
    "    print(f'Raiz del error cuadratico medio en train: {rmse_train}')\n",
    "    print(f'Raiz del error cuadratico medio en test: {rmse_test}')\n",
    "    print('')"
   ]
  },
  {
   "cell_type": "code",
   "execution_count": null,
   "id": "9312187a",
   "metadata": {},
   "outputs": [],
   "source": []
  }
 ],
 "metadata": {
  "kernelspec": {
   "display_name": "Python 3 (ipykernel)",
   "language": "python",
   "name": "python3"
  },
  "language_info": {
   "codemirror_mode": {
    "name": "ipython",
    "version": 3
   },
   "file_extension": ".py",
   "mimetype": "text/x-python",
   "name": "python",
   "nbconvert_exporter": "python",
   "pygments_lexer": "ipython3",
   "version": "3.11.3"
  }
 },
 "nbformat": 4,
 "nbformat_minor": 5
}
